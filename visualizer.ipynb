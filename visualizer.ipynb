{
 "cells": [
  {
   "cell_type": "code",
   "execution_count": 2,
   "id": "43252133-d5b3-4543-ba1f-653c029f8e6d",
   "metadata": {},
   "outputs": [],
   "source": [
    "import matplotlib.pyplot as plt\n",
    "import matplotlib.animation as animation\n",
    "import numpy as np\n",
    "from os import listdir, unlink\n",
    "from os.path import join\n",
    "from utils import *\n",
    "\n",
    "%matplotlib qt"
   ]
  },
  {
   "cell_type": "code",
   "execution_count": 3,
   "id": "12e6e3bc-328f-4347-b82f-625587bd1e4f",
   "metadata": {},
   "outputs": [],
   "source": [
    "folder = 'outdir'\n",
    "data = []\n",
    "\n",
    "for file_name in [fn for fn in listdir(folder) if fn.endswith('.plt')]:\n",
    "    with open(join(folder, file_name)) as f:\n",
    "        current_t, x_min, x_max, y_min, y_max, z_min, z_max, spheres_num = map(lambda x: x.split('=')[1], f.readline()[:-2].split(';'))\n",
    "        current_t, x_min, x_max, y_min, y_max, z_min = map(float, [current_t, x_min, x_max, y_min, y_max, z_min])\n",
    "        \n",
    "        if z_max == '+inf':\n",
    "            z_max = z_min + max((x_max-x_min), (y_max-y_min))\n",
    "        else:\n",
    "            z_max = float(z_max)\n",
    "            \n",
    "        spheres_num = int(spheres_num)\n",
    "        f.readline()  # VARIABLES = \"X\" \"Y\" \"Z\" \"R\" \"M\"\n",
    "        data += [np.genfromtxt(f)]"
   ]
  },
  {
   "cell_type": "code",
   "execution_count": 4,
   "id": "e7836e8e-15d1-4c26-803b-3f6904cadbe1",
   "metadata": {},
   "outputs": [],
   "source": [
    "data = [np.array([data[j][i, : ] for j in range(len(data))]) for i in range(spheres_num)]  # shape = (spheres_num, observation_num, 5), type = list of np.arrays"
   ]
  },
  {
   "cell_type": "code",
   "execution_count": 3,
   "id": "b3cff872-a992-4f91-875b-07b2a666089f",
   "metadata": {},
   "outputs": [],
   "source": [
    "ax = plt.axes(projection='3d')\n",
    "ax.set_xlabel('x')\n",
    "ax.set_ylabel('y')\n",
    "ax.set_zlabel('z')\n",
    "ax.set_xlim(x_min, x_max)\n",
    "ax.set_ylim(y_min, y_max)\n",
    "ax.set_zlim(z_min, z_max)\n",
    "\n",
    "\n",
    "u = np.linspace(0, 2 * np.pi, 100)\n",
    "v = np.linspace(0, np.pi, 100)\n",
    "\n",
    "XYZ = []\n",
    "\n",
    "for spheres in data:\n",
    "    for x, y, z, r, m in spheres:\n",
    "        x = x + r * np.outer(np.cos(u), np.sin(v))\n",
    "        y = y + r * np.outer(np.sin(u), np.sin(v))\n",
    "        z = z + r * np.outer(np.ones(np.size(u)), np.cos(v))\n",
    "\n",
    "        color = mass2color(m, light_color=(237/255, 255/255, 198/255), heavy_color=(0/255, 0/255, 0/255))\n",
    "        XYZ += [(x,y,z)]\n",
    "#         ax.plot_surface(x, y, z, rstride=4, cstride=4, color=color, linewidth=0, alpha=0.5)\n",
    "\n",
    "#     break"
   ]
  },
  {
   "cell_type": "code",
   "execution_count": 9,
   "id": "1b02a663-fd76-4644-9317-4460045f2848",
   "metadata": {},
   "outputs": [],
   "source": [
    "def update_lines(num, data, lines):\n",
    "    for line, sphere in zip(lines, data):\n",
    "        # NOTE: there is no .set_data() for 3 dim data...\n",
    "        line.set_data(sphere[num, :2].T)\n",
    "        line.set_3d_properties(sphere[num, 2])\n",
    "        \n",
    "    return lines\n",
    "\n",
    "fig = plt.figure()\n",
    "# fig.subplots_adjust(left=0, right=1, bottom=0, top=1)\n",
    "ax = fig.add_subplot(111, projection='3d', autoscale_on=False)\n",
    "ax.set_xlabel('x')\n",
    "ax.set_ylabel('y')\n",
    "ax.set_zlabel('z')\n",
    "ax.set_xlim(x_min, x_max)\n",
    "ax.set_ylim(y_min, y_max)\n",
    "ax.set_zlim(z_min, z_max)\n",
    "\n",
    "colors = [mass2color(data[i][0][-1]) for i in range(spheres_num)]\n",
    "radiuses = [data[i][0][-2] for i in range(spheres_num)]\n",
    "num_steps = len(data[0])\n",
    "\n",
    "lines = [ax.plot([], [], [], 'o', color=colors[i], markersize=1e1*radiuses[i], alpha=0.5)[0] for i in range(spheres_num)]\n",
    "\n",
    "anime = animation.FuncAnimation(fig, update_lines, num_steps, fargs=(data, lines), interval=10)"
   ]
  },
  {
   "cell_type": "code",
   "execution_count": null,
   "id": "a7a41ead-50ac-4873-a911-00b8577cb5f5",
   "metadata": {},
   "outputs": [],
   "source": [
    "anime.save('my_balls.mp4')"
   ]
  }
 ],
 "metadata": {
  "kernelspec": {
   "display_name": "Python 3",
   "language": "python",
   "name": "python3"
  },
  "language_info": {
   "codemirror_mode": {
    "name": "ipython",
    "version": 3
   },
   "file_extension": ".py",
   "mimetype": "text/x-python",
   "name": "python",
   "nbconvert_exporter": "python",
   "pygments_lexer": "ipython3",
   "version": "3.8.8"
  }
 },
 "nbformat": 4,
 "nbformat_minor": 5
}
